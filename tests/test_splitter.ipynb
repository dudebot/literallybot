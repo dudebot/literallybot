{
 "cells": [
  {
   "cell_type": "code",
   "execution_count": null,
   "metadata": {},
   "outputs": [],
   "source": [
    "import re\n",
    "def recursive_split(text, max_size=2000):\n",
    "    if len(text) <= max_size:\n",
    "        return [text]\n",
    "    mid = len(text) // 2\n",
    "\n",
    "    # Try splitting on delimiters in order: period with whitespace, newline, then space.\n",
    "    for pattern in [r'\\n+', r'\\.\\s+', r'\\s+']:\n",
    "        matches = list(re.finditer(pattern, text))\n",
    "        if matches:\n",
    "            # Find the match closest to the middle.\n",
    "            best_match = min(matches, key=lambda m: abs(m.start() - mid))\n",
    "            split_index = best_match.end()  # split after the delimiter\n",
    "            # Avoid degenerate splits.\n",
    "            if split_index <= 0 or split_index >= len(text):\n",
    "                continue\n",
    "            left = text[:split_index].strip()\n",
    "            right = text[split_index:].strip()\n",
    "            return recursive_split(left, max_size) + recursive_split(right, max_size)\n",
    "        # If no delimiter was found, force a split at max_size.\n",
    "        return [text[:max_size]] + recursive_split(text[max_size:], max_size)"
   ]
  },
  {
   "cell_type": "code",
   "execution_count": null,
   "metadata": {},
   "outputs": [],
   "source": [
    "def run_tests():\n",
    "    # Test 1: Text smaller than max_size should not split.\n",
    "    text1 = 'Short text.'\n",
    "    result1 = recursive_split(text1, max_size=50)\n",
    "    assert result1 == [text1], f'Expected [text1] but got {result1}'\n",
    "\n",
    "    # Test 2: Text longer than max_size should split based on delimiters.\n",
    "    text2 = 'Sentence one. Sentence two with more text. Sentence three is here.'\n",
    "    result2 = recursive_split(text2, max_size=25)\n",
    "    assert len(result2) > 1, f'Expected multiple chunks but got {result2}'\n",
    "\n",
    "    # Test 3: Text with newlines as delimiters.\n",
    "    text3 = 'Line one\\nLine two\\nLine three\\nLine four'\n",
    "    result3 = recursive_split(text3, max_size=10)\n",
    "    assert len(result3) > 1, f'Expected multiple chunks but got {result3}'\n",
    "\n",
    "    # Test 4: Text forcing a split without any delimiters (force split at max_size).\n",
    "    text4 = 'A' * 100\n",
    "    result4 = recursive_split(text4, max_size=30)\n",
    "    assert len(result4) > 1, f'Expected multiple chunks but got {result4}'\n",
    "\n",
    "    print('All tests passed!')\n",
    "\n",
    "run_tests()"
   ]
  },
  {
   "cell_type": "code",
   "execution_count": null,
   "metadata": {},
   "outputs": [],
   "source": [
    "multi_paragraph_text = \"\"\"This is the first sentence of the first paragraph. Here's the second sentence. And the third sentence.\n",
    "\n",
    "Now this is the beginning of the second paragraph. It also has multiple sentences. Finally, the last sentence is here.\n",
    "\n",
    "The final paragraph starts here. It too, has more than one sentence. Indeed, another sentence follows.\"\"\"\n",
    "\n",
    "for size in [10, 25, 50, 100, 150]:\n",
    "    chunks = recursive_split(multi_paragraph_text, max_size=size)\n",
    "    print(f\"Max size: {size}\")\n",
    "    print(\"Chunks:\")\n",
    "    print(chunks)\n",
    "    print(\"-------------------------\")"
   ]
  }
 ],
 "metadata": {
  "kernelspec": {
   "display_name": "Python 3",
   "language": "python",
   "name": "python3"
  },
  "language_info": {
   "codemirror_mode": {
    "name": "ipython",
    "version": 3
   },
   "file_extension": ".py",
   "mimetype": "text/x-python",
   "name": "python",
   "nbconvert_exporter": "python",
   "pygments_lexer": "ipython3",
   "version": "3.11.9"
  }
 },
 "nbformat": 4,
 "nbformat_minor": 2
}
